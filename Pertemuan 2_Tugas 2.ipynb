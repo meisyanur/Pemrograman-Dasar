{
  "nbformat": 4,
  "nbformat_minor": 0,
  "metadata": {
    "colab": {
      "provenance": [],
      "authorship_tag": "ABX9TyOARX/FuhZ3GbroyCb9azVf",
      "include_colab_link": true
    },
    "kernelspec": {
      "name": "python3",
      "display_name": "Python 3"
    },
    "language_info": {
      "name": "python"
    }
  },
  "cells": [
    {
      "cell_type": "markdown",
      "metadata": {
        "id": "view-in-github",
        "colab_type": "text"
      },
      "source": [
        "<a href=\"https://colab.research.google.com/github/meisyanur/Pemrograman-Dasar/blob/main/Tugas%202.ipynb\" target=\"_parent\"><img src=\"https://colab.research.google.com/assets/colab-badge.svg\" alt=\"Open In Colab\"/></a>"
      ]
    },
    {
      "cell_type": "code",
      "execution_count": 3,
      "metadata": {
        "colab": {
          "base_uri": "https://localhost:8080/"
        },
        "id": "3saSQytLmxGK",
        "outputId": "1a32253c-df91-488e-9e71-bb5b649f0cdf"
      },
      "outputs": [
        {
          "output_type": "stream",
          "name": "stdout",
          "text": [
            "First Name :  Meisya\n",
            "Last Name  :  Nurhafiz Binti Toto\n",
            "Age        :  23\n",
            "Is Married :  False\n"
          ]
        }
      ],
      "source": [
        "FirstName = \"Meisya\"\n",
        "LastName = \"Nurhafiz Binti Toto\"\n",
        "age = 23\n",
        "isMarried = False\n",
        "\n",
        "print('First Name : ', FirstName)\n",
        "print('Last Name  : ', LastName)\n",
        "print('Age        : ', age)\n",
        "print('Is Married : ', isMarried)"
      ]
    },
    {
      "cell_type": "code",
      "source": [
        "Data_Diri = {\n",
        "\"First name\": \"Meisya\",\n",
        "    \"Last name\": \"Nurhafiz Binti Toto\",\n",
        "    \"Age\": 23,\n",
        "    \"Is married\": False}\n",
        "\n",
        "print(Data_Diri)\n",
        "print('Tipe data :', type(Data_Diri))"
      ],
      "metadata": {
        "colab": {
          "base_uri": "https://localhost:8080/"
        },
        "id": "TrKDM5Nvsah0",
        "outputId": "646b9f0d-2010-4fec-85dc-bf340d6b3ccb"
      },
      "execution_count": 6,
      "outputs": [
        {
          "output_type": "stream",
          "name": "stdout",
          "text": [
            "{'First name': 'Meisya', 'Last name': 'Nurhafiz Binti Toto', 'Age': 23, 'Is married': False}\n",
            "Tipe data : <class 'dict'>\n"
          ]
        }
      ]
    },
    {
      "cell_type": "code",
      "source": [
        "Inspeksi = [\"pemahaman terhadap rencana dan desain\",\"ketersediaan bahan dan peralatan\",\"pengawasan pekerjaan\",\"kualitas konstruksi\",\"keselamatan kerja\",\"koordinasi dengan pemilik proyek\"]\n",
        "\n",
        "print('Elemen indeks 0:', Inspeksi[0])\n",
        "print('lemen indeks 1 :', Inspeksi[1])\n",
        "print('Elemen indeks 2:', Inspeksi[2])\n",
        "print('Elemen indeks 3:', Inspeksi[3])\n",
        "print('Elemen indeks 4:', Inspeksi[4])\n",
        "print('Elemen indeks 5:', Inspeksi[5])\n",
        "print('Tipe data      :', type(Inspeksi))"
      ],
      "metadata": {
        "colab": {
          "base_uri": "https://localhost:8080/"
        },
        "id": "fDPU_03txEkb",
        "outputId": "27494c9f-e2df-47d6-abce-ad434dd5b2e1"
      },
      "execution_count": 7,
      "outputs": [
        {
          "output_type": "stream",
          "name": "stdout",
          "text": [
            "Elemen indeks 0: pemahaman terhadap rencana dan desain\n",
            "lemen indeks 1 : ketersediaan bahan dan peralatan\n",
            "Elemen indeks 2: pengawasan pekerjaan\n",
            "Elemen indeks 3: kualitas konstruksi\n",
            "Elemen indeks 4: keselamatan kerja\n",
            "Elemen indeks 5: koordinasi dengan pemilik proyek\n",
            "Tipe data      : <class 'list'>\n"
          ]
        }
      ]
    },
    {
      "cell_type": "code",
      "source": [
        "# Variabel startTime dan EndTime tipe data dictionary\n",
        "startTime = {\"HH\": 9, \"mm\": 23, \"ss\" :57}\n",
        "print(\"Start Time = \",f\"{startTime['HH']}:{startTime['mm']}:{startTime['ss']}\")\n",
        "print('Tipe data startTime :', type(startTime))\n",
        "\n",
        "endTime = {\"HH\": 15, \"mm\": 25, \"ss\": 43}\n",
        "print(\"End time = \",f\"{startTime['HH']}:{startTime['mm']}:{startTime['ss']}\")\n",
        "print('Tipe data endTime :', type(endTime))\n",
        ""
      ],
      "metadata": {
        "colab": {
          "base_uri": "https://localhost:8080/"
        },
        "id": "vqJagbclzuI2",
        "outputId": "f73e21fd-8236-4d51-f971-7b7a77fd3644"
      },
      "execution_count": 8,
      "outputs": [
        {
          "output_type": "stream",
          "name": "stdout",
          "text": [
            "Start Time =  9:23:57\n",
            "Tipe data startTime : <class 'dict'>\n",
            "End time =  9:23:57\n",
            "Tipe data endTime : <class 'dict'>\n"
          ]
        }
      ]
    },
    {
      "cell_type": "code",
      "source": [
        "katalog_A = {\"bola\", \"sepatu\", \"kaos kaki\", \"barbel\"}\n",
        "katalog_B = {\"kneepad\", \"matras\", \"raket\", \"sepatu\"}\n",
        "produk_diskon = (\"sepatu\", \"matras\", \"bola\")  # tuple\n",
        "\n",
        "# 1. Gabungkan katalog_A dan katalog_B\n",
        "katalog_lengkap = katalog_A.union(katalog_B)\n",
        "\n",
        "# 2. Cari produk yang ada di katalog_lengkap dan juga ada di produk_diskon\n",
        "produk_promo_aktif = katalog_lengkap.intersection(produk_diskon)\n",
        "\n",
        "# Tampilkan hasil\n",
        "print(\"Katalog A                     :\", katalog_A)\n",
        "print(\"Katalog B                     :\", katalog_B)\n",
        "print(\"Produk Diskon                 :\", produk_diskon)\n",
        "print(\"Katalog Lengkap               :\", katalog_lengkap)\n",
        "print(\"Produk Promo Aktif            :\", produk_promo_aktif)\n",
        "\n",
        "# Cek tipe datanya\n",
        "print(\"Tipe data katalog_lengkap    :\", type(katalog_lengkap))\n",
        "print(\"Tipe data produk_diskon      :\", type(produk_diskon))\n",
        "print(\"Tipe data produk_promo_aktif :\", type(produk_promo_aktif))\n"
      ],
      "metadata": {
        "colab": {
          "base_uri": "https://localhost:8080/"
        },
        "id": "QyrWm6MG00n9",
        "outputId": "631307a8-c610-4c08-e744-72af2b87e822"
      },
      "execution_count": 9,
      "outputs": [
        {
          "output_type": "stream",
          "name": "stdout",
          "text": [
            "Katalog A                     : {'barbel', 'sepatu', 'kaos kaki', 'bola'}\n",
            "Katalog B                     : {'kneepad', 'raket', 'sepatu', 'matras'}\n",
            "Produk Diskon                 : ('sepatu', 'matras', 'bola')\n",
            "Katalog Lengkap               : {'barbel', 'raket', 'kneepad', 'sepatu', 'kaos kaki', 'matras', 'bola'}\n",
            "Produk Promo Aktif            : {'sepatu', 'matras', 'bola'}\n",
            "Tipe data katalog_lengkap    : <class 'set'>\n",
            "Tipe data produk_diskon      : <class 'tuple'>\n",
            "Tipe data produk_promo_aktif : <class 'set'>\n"
          ]
        }
      ]
    }
  ]
}
