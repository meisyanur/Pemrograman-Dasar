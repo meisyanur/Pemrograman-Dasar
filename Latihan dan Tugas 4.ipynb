{
  "nbformat": 4,
  "nbformat_minor": 0,
  "metadata": {
    "colab": {
      "provenance": [],
      "authorship_tag": "ABX9TyP/v3hCFjnBMeJq+NhgXhQL",
      "include_colab_link": true
    },
    "kernelspec": {
      "name": "python3",
      "display_name": "Python 3"
    },
    "language_info": {
      "name": "python"
    }
  },
  "cells": [
    {
      "cell_type": "markdown",
      "metadata": {
        "id": "view-in-github",
        "colab_type": "text"
      },
      "source": [
        "<a href=\"https://colab.research.google.com/github/meisyanur/Pemrograman-Dasar/blob/main/Latihan%20dan%20Tugas%204.ipynb\" target=\"_parent\"><img src=\"https://colab.research.google.com/assets/colab-badge.svg\" alt=\"Open In Colab\"/></a>"
      ]
    },
    {
      "cell_type": "code",
      "execution_count": 1,
      "metadata": {
        "colab": {
          "base_uri": "https://localhost:8080/"
        },
        "id": "EGnMgd3fU3ec",
        "outputId": "7b4b636a-b80b-447f-8bcf-867661ea4e2e"
      },
      "outputs": [
        {
          "output_type": "stream",
          "name": "stdout",
          "text": [
            "masukkan angka : 55\n",
            "kelipatan 5\n"
          ]
        }
      ],
      "source": [
        "#LATIHAN 4\n",
        "# Menampilkan angka kelipatan 5\n",
        "\n",
        "angka = input(\"masukkan angka : \")\n",
        "\n",
        "if int(angka) % 5 == 0:\n",
        "    print(\"kelipatan 5\")\n",
        "else:\n",
        "    print(\"bukan kelipatan 5\")"
      ]
    },
    {
      "cell_type": "code",
      "source": [
        "# Menentukan Tahun Kabisat\n",
        "\n",
        "tahun = int(input(\"Masukkan tahun: \"))\n",
        "\n",
        "if tahun % 400 == 0:\n",
        "    print(f\"{tahun} adalah tahun kabisat (habis dibagi 400)\")\n",
        "elif tahun % 4 == 0 and tahun % 100 != 0:\n",
        "    print(f\"{tahun} adalah tahun kabisat (habis dibagi 4 dan tidak habis dibagi 100)\")\n",
        "else:\n",
        "    print(f\"{tahun} bukan tahun kabisat\")"
      ],
      "metadata": {
        "colab": {
          "base_uri": "https://localhost:8080/"
        },
        "id": "shNNKmWSW8Wu",
        "outputId": "26b3544e-6d96-49d4-8126-0ed0189cc06d"
      },
      "execution_count": 2,
      "outputs": [
        {
          "output_type": "stream",
          "name": "stdout",
          "text": [
            "Masukkan tahun: 2000\n",
            "2000 adalah tahun kabisat (habis dibagi 400)\n"
          ]
        }
      ]
    },
    {
      "cell_type": "code",
      "source": [
        "# Soal Matematika Sederhana dan penyelesaiannya\n",
        "\n",
        "print(\"=== Program Operasi Matematika ===\")\n",
        "\n",
        "# Input dari pengguna\n",
        "angka1 = float(input(\"Masukkan angka pertama: \"))\n",
        "angka2 = float(input(\"Masukkan angka kedua: \"))\n",
        "\n",
        "print(\"Pilih operasi:\")\n",
        "print(\"1. Penjumlahan (+)\")\n",
        "print(\"2. Pengurangan (-)\")\n",
        "print(\"3. Perkalian (×)\")\n",
        "print(\"4. Pembagian (÷)\")\n",
        "\n",
        "pilihan = int(input(\"Masukkan pilihan (1-4): \"))\n",
        "\n",
        "#  menentukan operasi\n",
        "if pilihan == 1:\n",
        "    hasil = angka1 + angka2\n",
        "    print(f\"Hasil dari {angka1} + {angka2} = {hasil}\")\n",
        "elif pilihan == 2:\n",
        "    hasil = angka1 - angka2\n",
        "    print(f\"Hasil dari {angka1} - {angka2} = {hasil}\")\n",
        "elif pilihan == 3:\n",
        "    hasil = angka1 * angka2\n",
        "    print(f\"Hasil dari {angka1} × {angka2} = {hasil}\")\n",
        "elif pilihan == 4:\n",
        "    # pembagian dengan nol\n",
        "    if angka2 != 0:\n",
        "        hasil = angka1 / angka2\n",
        "        print(f\"Hasil dari {angka1} ÷ {angka2} = {hasil}\")\n",
        "    else:\n",
        "        print(\"Error: Pembagian dengan nol tidak diperbolehkan.\")\n",
        "else:\n",
        "    print(\"Pilihan tidak valid! Masukkan angka 1-4.\")\n"
      ],
      "metadata": {
        "colab": {
          "base_uri": "https://localhost:8080/"
        },
        "id": "4rtWsmeqZmw-",
        "outputId": "066f31fa-072e-4876-d65d-8de44901301f"
      },
      "execution_count": 9,
      "outputs": [
        {
          "output_type": "stream",
          "name": "stdout",
          "text": [
            "=== Program Operasi Matematika ===\n",
            "Masukkan angka pertama: 27\n",
            "Masukkan angka kedua: 29\n",
            "Pilih operasi:\n",
            "1. Penjumlahan (+)\n",
            "2. Pengurangan (-)\n",
            "3. Perkalian (×)\n",
            "4. Pembagian (÷)\n",
            "Masukkan pilihan (1-4): 1\n",
            "Hasil dari 27.0 + 29.0 = 56.0\n"
          ]
        }
      ]
    },
    {
      "cell_type": "code",
      "source": [
        "bulan = int(input(\"Masukkan angka bulan (1-12): \"))\n",
        "\n",
        "daftar_bulan = [\"Januari\", \"Februari\", \"Maret\", \"April\", \"Mei\", \"Juni\",\n",
        "    \"Juli\", \"Agustus\", \"September\", \"Oktober\", \"November\", \"Desember\"]\n",
        "\n",
        "if 1 <= bulan <= 12:\n",
        "    print(f\"Bulan ke-{bulan} adalah {daftar_bulan[bulan-1]}\")\n",
        "else:\n",
        "    print(\"Input salah\")"
      ],
      "metadata": {
        "colab": {
          "base_uri": "https://localhost:8080/"
        },
        "id": "zeu8q2OUbo35",
        "outputId": "a8b9303b-7d69-4eb7-bde5-8cba61d47290"
      },
      "execution_count": 7,
      "outputs": [
        {
          "output_type": "stream",
          "name": "stdout",
          "text": [
            "Masukkan angka bulan (1-12): 5\n",
            "Bulan ke-5 adalah Mei\n"
          ]
        }
      ]
    },
    {
      "cell_type": "code",
      "source": [
        "# Menampilkan Salam Berdasarkan Jam\n",
        "\n",
        "jam = int(input(\"Masukkan jam sekarang (0-23): \"))\n",
        "\n",
        "# Mengecek rentang jam dan menampilkan salam\n",
        "if 0 <= jam <= 11:\n",
        "    print(\"Selamat Pagi\")\n",
        "elif 12 <= jam <= 15:\n",
        "    print(\"Selamat Siang\")\n",
        "elif 16 <= jam <= 18:\n",
        "    print(\"Selamat Sore\")\n",
        "elif 19 <= jam <= 23:\n",
        "    print(\"Selamat Malam\")\n",
        "else:\n",
        "    print(\"Input salah. Masukkan jam antara 0-23.\")\n"
      ],
      "metadata": {
        "colab": {
          "base_uri": "https://localhost:8080/"
        },
        "id": "ICgwT2r_efjt",
        "outputId": "50f41ee9-4bd1-4acf-88d5-5fe69a48be8c"
      },
      "execution_count": 10,
      "outputs": [
        {
          "output_type": "stream",
          "name": "stdout",
          "text": [
            "Masukkan jam sekarang (0-23): 22\n",
            "Selamat Malam\n"
          ]
        }
      ]
    },
    {
      "cell_type": "code",
      "source": [
        "TUGAS 4\n"
      ],
      "metadata": {
        "id": "pCFLaP04fbBz"
      },
      "execution_count": null,
      "outputs": []
    },
    {
      "cell_type": "code",
      "source": [
        "print(\"=\"*30)\n",
        "print(\"SELAMAT DATANG DI CAFETARIA\")\n",
        "print(\"=\"*30)\n",
        "print(\"Menu Makanan & Minuman:\")\n",
        "print(\"1. Americano      - Rp 20.000\")\n",
        "print(\"2. Matcha Latte   - Rp 28.000\")\n",
        "print(\"3. Onigiri        - Rp 15.000\")\n",
        "print(\"4. cheesecake     - Rp 18.000\")\n",
        "print(\"=\"*30)\n",
        "\n",
        "# Pilihan menu\n",
        "pilihan = int(input(\"Silakan masukkan nomor pilihan Anda (1-4): \"))\n",
        "\n",
        "nama_pesanan = \"\"\n",
        "harga = 0\n",
        "\n",
        "if pilihan == 1:\n",
        "    nama_pesanan = \"Americano \"\n",
        "    harga = 20000\n",
        "elif pilihan == 2:\n",
        "    nama_pesanan = \"Matcha Latte\"\n",
        "    harga = 28000\n",
        "elif pilihan == 3:\n",
        "    nama_pesanan = \"Onigiri\"\n",
        "    harga = 15000\n",
        "elif pilihan == 4:\n",
        "    nama_pesanan = \"cheesecake\"\n",
        "    harga = 18000\n",
        "else:\n",
        "    print(\"Maaf, pilihan menu tidak valid. Silakan jalankan ulang program.\")\n",
        "\n",
        "if harga > 0:\n",
        "    print(\"=\"*30)\n",
        "    print(f\"Anda memesan: {nama_pesanan} dengan harga Rp {harga}\")\n",
        "\n",
        "    jumlah = int(input(\"Masukkan jumlah pesanan: \"))\n",
        "    total_harga = harga * jumlah\n",
        "\n",
        "    # Pilihan diskon\n",
        "    print(\"\\nKategori Diskon:\")\n",
        "    print(\"1. Diskon 70%\")\n",
        "    print(\"2. Diskon 50%\")\n",
        "    print(\"3. Diskon 30%\")\n",
        "    print(\"4. Tidak ada diskon\")\n",
        "\n",
        "    pilih_diskon = int(input(\"Pilih kategori diskon (1-4): \"))\n",
        "\n",
        "    if pilih_diskon == 1:\n",
        "        diskon = 0.70\n",
        "    elif pilih_diskon == 2:\n",
        "        diskon = 0.50\n",
        "    elif pilih_diskon == 3:\n",
        "        diskon = 0.30\n",
        "    else:\n",
        "        diskon = 0.0\n",
        "\n",
        "    potongan = total_harga * diskon\n",
        "    total_bayar = total_harga - potongan\n",
        "\n",
        "    print(f\"\\nTotal Harga Sebelum Diskon: Rp {total_harga}\")\n",
        "    print(f\"Diskon: {int(diskon*100)}% (Rp {int(potongan)})\")\n",
        "    print(f\"Total Bayar Sesudah Diskon: Rp {int(total_bayar)}\")\n",
        "\n",
        "    uang_dibayar = int(input(\"\\nMasukkan jumlah uang Anda: Rp \"))\n",
        "\n",
        "    if uang_dibayar >= total_bayar:\n",
        "        kembalian = uang_dibayar - total_bayar\n",
        "        print(\"\\n--- Struk Pembayaran ---\")\n",
        "        print(f\"Pesanan Anda  : {nama_pesanan}\")\n",
        "        print(f\"Jumlah        : {jumlah}\")\n",
        "        print(f\"Total Harga   : Rp {int(total_harga)}\")\n",
        "        print(f\"Diskon        : {int(diskon*100)}% (Rp {int(potongan)})\")\n",
        "        print(f\"Total Bayar   : Rp {int(total_bayar)}\")\n",
        "        print(f\"Uang Dibayar  : Rp {uang_dibayar}\")\n",
        "        print(f\"Kembalian     : Rp {int(kembalian)}\")\n",
        "        print(\"-------------------------\")\n",
        "        print(\"Terima kasih telah berbelanja!\")\n",
        "\n",
        "    else:\n",
        "        kekurangan = total_bayar - uang_dibayar\n",
        "        print(f\"Maaf, uang Anda kurang sebesar Rp {int(kekurangan)}\")\n",
        "\n",
        "print(\"=\"*30)"
      ],
      "metadata": {
        "colab": {
          "base_uri": "https://localhost:8080/"
        },
        "id": "jmPxWLSAfeZy",
        "outputId": "3b539dcc-1ec2-40a9-8742-2dbf9a99c194"
      },
      "execution_count": 11,
      "outputs": [
        {
          "output_type": "stream",
          "name": "stdout",
          "text": [
            "==============================\n",
            "SELAMAT DATANG DI CAFETARIA\n",
            "==============================\n",
            "Menu Makanan & Minuman:\n",
            "1. Americano      - Rp 20.000\n",
            "2. Matcha Latte   - Rp 28.000\n",
            "3. Onigiri        - Rp 15.000\n",
            "4. cheesecake     - Rp 18.000\n",
            "==============================\n",
            "Silakan masukkan nomor pilihan Anda (1-4): 2\n",
            "==============================\n",
            "Anda memesan: Matcha Latte dengan harga Rp 28000\n",
            "Masukkan jumlah pesanan: 2\n",
            "\n",
            "Kategori Diskon:\n",
            "1. Diskon 70%\n",
            "2. Diskon 50%\n",
            "3. Diskon 30%\n",
            "4. Tidak ada diskon\n",
            "Pilih kategori diskon (1-4): 2\n",
            "\n",
            "Total Harga Sebelum Diskon: Rp 56000\n",
            "Diskon: 50% (Rp 28000)\n",
            "Total Bayar Sesudah Diskon: Rp 28000\n",
            "\n",
            "Masukkan jumlah uang Anda: Rp 50000\n",
            "\n",
            "--- Struk Pembayaran ---\n",
            "Pesanan Anda  : Matcha Latte\n",
            "Jumlah        : 2\n",
            "Total Harga   : Rp 56000\n",
            "Diskon        : 50% (Rp 28000)\n",
            "Total Bayar   : Rp 28000\n",
            "Uang Dibayar  : Rp 50000\n",
            "Kembalian     : Rp 22000\n",
            "-------------------------\n",
            "Terima kasih telah berbelanja!\n",
            "==============================\n"
          ]
        }
      ]
    }
  ]
}