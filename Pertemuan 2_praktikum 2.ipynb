{
  "nbformat": 4,
  "nbformat_minor": 0,
  "metadata": {
    "colab": {
      "provenance": [],
      "authorship_tag": "ABX9TyPpXESP2p9VndXG1QnPdXZU",
      "include_colab_link": true
    },
    "kernelspec": {
      "name": "python3",
      "display_name": "Python 3"
    },
    "language_info": {
      "name": "python"
    }
  },
  "cells": [
    {
      "cell_type": "markdown",
      "metadata": {
        "id": "view-in-github",
        "colab_type": "text"
      },
      "source": [
        "<a href=\"https://colab.research.google.com/github/meisyanur/Pemrograman-Dasar/blob/main/praktikum2.ipynb\" target=\"_parent\"><img src=\"https://colab.research.google.com/assets/colab-badge.svg\" alt=\"Open In Colab\"/></a>"
      ]
    },
    {
      "cell_type": "code",
      "execution_count": 3,
      "metadata": {
        "colab": {
          "base_uri": "https://localhost:8080/"
        },
        "id": "hePuveOEAd5I",
        "outputId": "3ac2e92d-9737-40da-a9cd-04d791126143"
      },
      "outputs": [
        {
          "output_type": "stream",
          "name": "stdout",
          "text": [
            "23\n",
            "43\n",
            "15\n",
            "34\n",
            "setelah diubah : 51\n"
          ]
        }
      ],
      "source": [
        "# deklarasi variabel list\n",
        "numbers = [23, 43, 15, 34]\n",
        "# cara mengakses elemen dalam variabel list\n",
        "numbers[0] # 23\n",
        "numbers[1] # 43\n",
        "numbers[2] # 15\n",
        "numbers[3] # 34\n",
        "# cara mengubah nilai elemen dalam variabel list\n",
        "numbers[2] # 51\n",
        "numbers[2] # 51\n",
        "\n",
        "print (numbers[0])\n",
        "print (numbers[1])\n",
        "print (numbers[2])\n",
        "print (numbers[3])\n",
        "\n",
        "numbers[2] = 51\n",
        "print (\"setelah diubah :\", numbers[2])"
      ]
    },
    {
      "cell_type": "code",
      "source": [
        "# deklarasi variabel list numbers\n",
        "numbers = [1, 2, 3]\n",
        "print('numbers :', numbers)\n",
        "\n",
        "# menambahkan elemen di indeks ke-4\n",
        "numbers.insert(4, 5) # [1, 2, 3, 5]\n",
        "print('Setelah di insert di indeks ke-4 :', numbers)\n",
        "\n",
        "#mengubah elemen di indeks ke-4\n",
        "numbers[3] = 4 # [1, 2, 3, 4 ]\n",
        "print(\"Setelah di ubah di indeks ke-4:\", numbers)\n",
        "\n",
        "# menghapus elemen di indeks ke-2\n",
        "numbers.pop(2) # [1, 2, 4]\n",
        "print(\"List setelah pop :\", numbers)\n",
        "print(\"Elemen yang di pop:\", 3)\n",
        "\n",
        "\n",
        "\n",
        "\n",
        "#print setiap hasil perubahan dan amati hasilnya"
      ],
      "metadata": {
        "id": "0RDsRKmTFR21",
        "colab": {
          "base_uri": "https://localhost:8080/"
        },
        "outputId": "9a883d90-eff7-4544-bc19-706d7ed2e990"
      },
      "execution_count": 4,
      "outputs": [
        {
          "output_type": "stream",
          "name": "stdout",
          "text": [
            "numbers : [1, 2, 3]\n",
            "Setelah di insert di indeks ke-4 : [1, 2, 3, 5]\n",
            "Setelah di ubah di indeks ke-4: [1, 2, 3, 4]\n",
            "List setelah pop : [1, 2, 4]\n",
            "Elemen yang di pop: 3\n"
          ]
        }
      ]
    },
    {
      "cell_type": "code",
      "source": [
        "# Deklarasi variabel list\n",
        "myList = [1, \"Rumah\", 4.5, True, [\"Kamar mandi\", \"Kamar tidur\"]]\n",
        "\n",
        "# Mengakses elemen dalam variabel list\n",
        "myList[0]\n",
        "myList[1]\n",
        "myList[2]\n",
        "myList[3]\n",
        "myList[4]\n",
        "print(\"Elemen indeks 0    :\", myList[0])   # 1\n",
        "print(\"Elemen indeks 1    :\", myList[1])   # \"Rumah\"\n",
        "print(\"Elemen indeks 2    :\", myList[2])   # 4.5\n",
        "print(\"Elemen indeks 3    :\", myList[3])   # True\n",
        "print(\"Elemen indeks 4    :\", myList[4])   # [\"Kamar mandi\", \"Kamar tidur\"]\n",
        "\n",
        "# Mengakses elemen dalam sublist\n",
        "print(\"Elemen indeks 4[0] :\", myList[4][0])   # \"Kamar mandi\"\n",
        "print(\"Elemen indeks 4[1] :\", myList[4][1])   # \"Kamar tidur\"\n",
        "print(myList[0], myList[4][1])"
      ],
      "metadata": {
        "colab": {
          "base_uri": "https://localhost:8080/"
        },
        "id": "WpjBLG7UeCba",
        "outputId": "1e7ad2a5-7769-4889-faec-f8fb7a32d3a0"
      },
      "execution_count": null,
      "outputs": [
        {
          "output_type": "stream",
          "name": "stdout",
          "text": [
            "Elemen indeks 0    : 1\n",
            "Elemen indeks 1    : Rumah\n",
            "Elemen indeks 2    : 4.5\n",
            "Elemen indeks 3    : True\n",
            "Elemen indeks 4    : ['Kamar mandi', 'Kamar tidur']\n",
            "Elemen indeks 4[0] : Kamar mandi\n",
            "Elemen indeks 4[1] : Kamar tidur\n",
            "1 Kamar tidur\n"
          ]
        }
      ]
    },
    {
      "cell_type": "code",
      "source": [
        "# Tipe Slicing List\n",
        "\n",
        "x = ['laptop', 'monitor', 'mouse', 'mousepad', 'keyboard', 'webcam', 'microphone']\n",
        "print(x[0:5:2])\n",
        "print(x[1:])\n",
        "print(x[:3])\n",
        "print(x[-1:-5:-1])\n",
        "print('Tipe data:', type(x))"
      ],
      "metadata": {
        "colab": {
          "base_uri": "https://localhost:8080/"
        },
        "id": "vsK2xOXqfjG4",
        "outputId": "163f3562-0e8d-4bee-fd59-d49dfac86356"
      },
      "execution_count": null,
      "outputs": [
        {
          "output_type": "stream",
          "name": "stdout",
          "text": [
            "['laptop', 'mouse', 'keyboard']\n",
            "['monitor', 'mouse', 'mousepad', 'keyboard', 'webcam', 'microphone']\n",
            "['laptop', 'monitor', 'mouse']\n",
            "['microphone', 'webcam', 'keyboard', 'mousepad']\n",
            "Tipe data: <class 'list'>\n"
          ]
        }
      ]
    },
    {
      "cell_type": "code",
      "source": [
        "x = (5, 'program' , 1+3j)\n",
        "\n",
        "\n",
        "print(x[1])\n",
        "print(x[0:3])\n",
        "print('Tipe data:' , )"
      ],
      "metadata": {
        "colab": {
          "base_uri": "https://localhost:8080/"
        },
        "id": "dkBwqHiWf0G4",
        "outputId": "b9fa7420-815f-471c-ea3d-ce4cbf202d60"
      },
      "execution_count": null,
      "outputs": [
        {
          "output_type": "stream",
          "name": "stdout",
          "text": [
            "program\n",
            "(5, 'program', (1+3j))\n",
            "Tipe data:\n"
          ]
        }
      ]
    },
    {
      "cell_type": "code",
      "source": [
        "# Tipe Data Tuple\n",
        "\n",
        "# Deklarasi variabel tuple\n",
        "numbers = (23, 43, 15, 34)\n",
        "\n",
        "# Mengakses elemen dalam tuple\n",
        "numbers[0]\n",
        "numbers[1]\n",
        "numbers[2]\n",
        "numbers[3]\n",
        "print(\"Elemen indeks 0:\", numbers[0])\n",
        "print(\"Elemen indeks 1:\", numbers[1])\n",
        "print(\"Elemen indeks 2:\", numbers[2])\n",
        "print(\"Elemen indeks 3:\", numbers[3])"
      ],
      "metadata": {
        "colab": {
          "base_uri": "https://localhost:8080/"
        },
        "id": "C2NY1d9ff0XB",
        "outputId": "742ba7e3-d38c-4e8b-a43a-e30dec582511"
      },
      "execution_count": null,
      "outputs": [
        {
          "output_type": "stream",
          "name": "stdout",
          "text": [
            "Elemen indeks 0: 23\n",
            "Elemen indeks 1: 43\n",
            "Elemen indeks 2: 15\n",
            "Elemen indeks 3: 34\n"
          ]
        }
      ]
    },
    {
      "cell_type": "code",
      "source": [
        "# Deklarasi variabel set a dan b\n",
        "a = {1, 2, 3}\n",
        "b = {2, 3, 4}\n",
        "\n",
        "# Operasi gabungan\n",
        "print(\"Gabungan   :\", a.union(b))\n",
        "\n",
        "# Operasi irisan\n",
        "print(\"Irisan     :\", a.intersection(b))\n",
        "\n",
        "# Operasi perbedaan simetris\n",
        "print(\"Perbedaan  :\", a.symmetric_difference(b))\n",
        "\n",
        "print('Tipe data  :', type(a))\n",
        "print('Tipe data  :', type(b))\n"
      ],
      "metadata": {
        "colab": {
          "base_uri": "https://localhost:8080/"
        },
        "id": "rWHLEwqdgufW",
        "outputId": "2234516b-0121-470e-b750-469c19ce8c62"
      },
      "execution_count": null,
      "outputs": [
        {
          "output_type": "stream",
          "name": "stdout",
          "text": [
            "Gabungan   : {1, 2, 3, 4}\n",
            "Irisan     : {2, 3}\n",
            "Perbedaan  : {1, 4}\n",
            "Tipe data  : <class 'set'>\n",
            "Tipe data  : <class 'set'>\n"
          ]
        }
      ]
    },
    {
      "cell_type": "code",
      "source": [
        "# Deklarasi variabel dictionary\n",
        "propertyDetail = {\"numFloors\": 1,\"propertyType\": \"Rumah\",\"hasTerrace\": True,\"hasGarage\": False}\n",
        "\n",
        "# Cara mengakses elemen dalam variabel dictionary\n",
        "print(\"Jumlah lantai        :\", propertyDetail[\"numFloors\"])\n",
        "print(\"Tipe properti        :\", propertyDetail[\"propertyType\"])\n",
        "print(\"Terdapat teras       :\", propertyDetail[\"hasTerrace\"])\n",
        "print(\"Terdapat garasi      :\", propertyDetail[\"hasGarage\"])\n",
        "\n",
        "# Cara mengubah nilai elemen dalam dictionary\n",
        "propertyDetail[\"hasTerrace\"] = False\n",
        "print(\"Mengubah teras       :\", propertyDetail[\"hasTerrace\"])\n",
        "\n",
        "# Menghapus Data\n",
        "del propertyDetail[\"hasGarage\"]\n",
        "print('Setelah di delete    :', propertyDetail)\n",
        "\n",
        "# Menambah Data\n",
        "propertyDetail[\"hasSwimmingPool\"] = True\n",
        "print('Setelah di tambah    :', propertyDetail)\n",
        "print('Tipe data            :', type(propertyDetail))\n"
      ],
      "metadata": {
        "colab": {
          "base_uri": "https://localhost:8080/"
        },
        "id": "8YM1N0nxiFLI",
        "outputId": "d5cf6d38-8b41-4a7e-881c-7366721afe04"
      },
      "execution_count": null,
      "outputs": [
        {
          "output_type": "stream",
          "name": "stdout",
          "text": [
            "Jumlah lantai        : 1\n",
            "Tipe properti        : Rumah\n",
            "Terdapat teras       : True\n",
            "Terdapat garasi      : False\n",
            "Mengubah teras       : False\n",
            "Setelah di delete    : {'numFloors': 1, 'propertyType': 'Rumah', 'hasTerrace': False}\n",
            "Setelah di tambah    : {'numFloors': 1, 'propertyType': 'Rumah', 'hasTerrace': False, 'hasSwimmingPool': True}\n",
            "Tipe data            : <class 'dict'>\n"
          ]
        }
      ]
    }
  ]
}
