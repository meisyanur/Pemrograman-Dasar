{
  "nbformat": 4,
  "nbformat_minor": 0,
  "metadata": {
    "colab": {
      "provenance": [],
      "authorship_tag": "ABX9TyMpDEBNxDmNPw36oO39Gqeq",
      "include_colab_link": true
    },
    "kernelspec": {
      "name": "python3",
      "display_name": "Python 3"
    },
    "language_info": {
      "name": "python"
    }
  },
  "cells": [
    {
      "cell_type": "markdown",
      "metadata": {
        "id": "view-in-github",
        "colab_type": "text"
      },
      "source": [
        "<a href=\"https://colab.research.google.com/github/meisyanur/Pemrograman-Dasar/blob/main/Tugas%201.ipynb\" target=\"_parent\"><img src=\"https://colab.research.google.com/assets/colab-badge.svg\" alt=\"Open In Colab\"/></a>"
      ]
    },
    {
      "cell_type": "code",
      "execution_count": 9,
      "metadata": {
        "colab": {
          "base_uri": "https://localhost:8080/"
        },
        "id": "c9BWvtx9kuEH",
        "outputId": "d5141947-6220-4e92-ebf5-c1b308feb5c9"
      },
      "outputs": [
        {
          "output_type": "stream",
          "name": "stdout",
          "text": [
            "Nama                  : Meisya Nurhafiz Binti Toto\n",
            "Nim                   : 4232411006\n",
            "Jurusan               : Teknik Elektro\n",
            "Program Studi         : Teknologi Rekayasa Pembangkit Energi\n",
            "Mata Kuliah           :  Pemrograman Dasar\n",
            "Semester              : 3\n",
            "Tempat, Tanggal Lahir : Batam, 29 Mei 2002\n",
            "Jenis Kelamin         : Perempuan\n",
            "Umur                  : 23 Tahun\n",
            "Alamat                : Sagulung Sumber Jadi Blok A7\n",
            "Agama                 : Islam\n",
            "Email                 : meisyanurhafiz29@gmail.com\n",
            "Nomor HP              : 0895603791092\n",
            "Golongan Darah        : A\n",
            "Tinggi Badan          : 150 cm\n",
            "Berat Badan           : 48 kg\n",
            "Hobi                  : Bermain Futsal\n",
            "Mahasiswa Aktif       : True\n",
            "Status Lulus          : False\n"
          ]
        }
      ],
      "source": [
        "# Biodata Saya\n",
        "Nama = \"Meisya Nurhafiz Binti Toto\"\n",
        "Nim = 4232411006\n",
        "Jurusan = \"Teknik Elektro\"\n",
        "Program_Studi = \"Teknologi Rekayasa Pembangkit Energi\"\n",
        "Mata_Kuliah = \" Pemrograman Dasar\"\n",
        "Semester = 3\n",
        "Tempat_Tanggal_Lahir = \"Batam, 29 Mei 2002\"\n",
        "Jenis_Kelamin = \"Perempuan\"\n",
        "Umur = 23\n",
        "Alamat = \"Sagulung Sumber Jadi Blok A7\"\n",
        "Agama = \"Islam\"\n",
        "Email = \"meisyanurhafiz29@gmail.com\"\n",
        "Nomor_HP = \"0895603791092\"\n",
        "Golongan_Darah = \"A\"\n",
        "Tinggi_Badan = \"150 cm\"\n",
        "Berat_Badan = \"48 kg\"\n",
        "Hobi = \"Bermain Futsal\"\n",
        "Mahasiswa_Aktif = True\n",
        "Status_Lulus = False\n",
        "\n",
        "# Menampilkan Data\n",
        "\n",
        "\n",
        "print ('Nama                  :', Nama)\n",
        "print ('Nim                   :', Nim)\n",
        "print ('Jurusan               :', Jurusan)\n",
        "print ('Program Studi         :', Program_Studi)\n",
        "print ('Mata Kuliah           :', Mata_Kuliah)\n",
        "print ('Semester              :', Semester)\n",
        "print ('Tempat, Tanggal Lahir :', Tempat_Tanggal_Lahir)\n",
        "print ('Jenis Kelamin         :', Jenis_Kelamin)\n",
        "print (f\"Umur                  : {Umur} Tahun\")\n",
        "print ('Alamat                :', Alamat)\n",
        "print ('Agama                 :', Agama)\n",
        "print ('Email                 :', Email)\n",
        "print ('Nomor HP              :', Nomor_HP)\n",
        "print ('Golongan Darah        :', Golongan_Darah)\n",
        "print ('Tinggi Badan          :', Tinggi_Badan)\n",
        "print ('Berat Badan           :', Berat_Badan)\n",
        "print ('Hobi                  :', Hobi)\n",
        "print ('Mahasiswa Aktif       :', Mahasiswa_Aktif)\n",
        "print ('Status Lulus          :', Status_Lulus)"
      ]
    }
  ]
}
