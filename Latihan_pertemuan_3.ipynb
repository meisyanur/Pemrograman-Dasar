{
  "nbformat": 4,
  "nbformat_minor": 0,
  "metadata": {
    "colab": {
      "provenance": [],
      "authorship_tag": "ABX9TyOJp2Jc8QUdWq5hgyfApfHx",
      "include_colab_link": true
    },
    "kernelspec": {
      "name": "python3",
      "display_name": "Python 3"
    },
    "language_info": {
      "name": "python"
    }
  },
  "cells": [
    {
      "cell_type": "markdown",
      "metadata": {
        "id": "view-in-github",
        "colab_type": "text"
      },
      "source": [
        "<a href=\"https://colab.research.google.com/github/meisyanur/Pemrograman-Dasar/blob/main/Latihan_pertemuan_3.ipynb\" target=\"_parent\"><img src=\"https://colab.research.google.com/assets/colab-badge.svg\" alt=\"Open In Colab\"/></a>"
      ]
    },
    {
      "cell_type": "code",
      "execution_count": null,
      "metadata": {
        "colab": {
          "base_uri": "https://localhost:8080/"
        },
        "id": "DY8u7OZdK7KP",
        "outputId": "b895d5f8-2a08-421f-e4b2-2e9212abcf86"
      },
      "outputs": [
        {
          "output_type": "stream",
          "name": "stdout",
          "text": [
            "Masukkan Tahun: 2024\n",
            "2024 adalah tahun kabisat.\n"
          ]
        }
      ],
      "source": [
        "tahun = int(input(\"Masukkan Tahun: \"))\n",
        "\n",
        "# Cek dengan aritmatika\n",
        "k4   = tahun % 4 == 0      # habis dibagi 4\n",
        "k100 = tahun % 100 == 0    # habis dibagi 100\n",
        "k400 = tahun % 400 == 0    # habis dibagi 400\n",
        "\n",
        "# Rumus kabisat = (k4 dan bukan k100) atau k400\n",
        "nilai = (k4 * (1 - k100)) + k400\n",
        "hasil = {1: f\"{tahun} adalah tahun kabisat.\",\n",
        "         0: f\"{tahun} bukan tahun kabisat.\"}\n",
        "\n",
        "print(hasil[nilai])"
      ]
    },
    {
      "cell_type": "code",
      "source": [
        "# Program Sederhana Menghitung Luas dan Keliling Persegi Panjang\n",
        "\n",
        "# Fungsi input\n",
        "panjang = float(input(\"Masukkan panjang persegi panjang: \"))\n",
        "lebar   = float(input(\"Masukkan lebar persegi panjang: \"))\n",
        "\n",
        "# Operasi aritmatika\n",
        "luas = panjang * lebar\n",
        "keliling = 2 * (panjang + lebar)\n",
        "\n",
        "# Fungsi output\n",
        "print(\"\\n=== Hasil Perhitungan Persegi Panjang ===\")\n",
        "print(f\"Luas     : {luas}\")\n",
        "print(f\"Keliling : {keliling}\")\n"
      ],
      "metadata": {
        "colab": {
          "base_uri": "https://localhost:8080/"
        },
        "id": "WvbsxzfrOFmR",
        "outputId": "cdb7267b-babc-44d9-e2be-5288b0d70114"
      },
      "execution_count": null,
      "outputs": [
        {
          "output_type": "stream",
          "name": "stdout",
          "text": [
            "Masukkan panjang persegi panjang: 20\n",
            "Masukkan lebar persegi panjang: 15\n",
            "\n",
            "=== Hasil Perhitungan Persegi Panjang ===\n",
            "Luas     : 300.0\n",
            "Keliling : 70.0\n"
          ]
        }
      ]
    }
  ]
}