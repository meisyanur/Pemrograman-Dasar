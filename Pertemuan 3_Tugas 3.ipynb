{
  "nbformat": 4,
  "nbformat_minor": 0,
  "metadata": {
    "colab": {
      "provenance": [],
      "authorship_tag": "ABX9TyMTThBr/lEugj9FN5RzIW8p",
      "include_colab_link": true
    },
    "kernelspec": {
      "name": "python3",
      "display_name": "Python 3"
    },
    "language_info": {
      "name": "python"
    }
  },
  "cells": [
    {
      "cell_type": "markdown",
      "metadata": {
        "id": "view-in-github",
        "colab_type": "text"
      },
      "source": [
        "<a href=\"https://colab.research.google.com/github/meisyanur/Pemrograman-Dasar/blob/main/TUGAS_3.ipynb\" target=\"_parent\"><img src=\"https://colab.research.google.com/assets/colab-badge.svg\" alt=\"Open In Colab\"/></a>"
      ]
    },
    {
      "cell_type": "code",
      "execution_count": null,
      "metadata": {
        "colab": {
          "base_uri": "https://localhost:8080/"
        },
        "id": "7sFY2mM3QxS_",
        "outputId": "87b1b1bc-3cb9-4b79-c591-34847ce78ba6"
      },
      "outputs": [
        {
          "output_type": "stream",
          "name": "stdout",
          "text": [
            "Jumlah Matcha Latte (Rp 35.000): 3\n",
            "Jumlah Americano (Rp 22.000): 1\n",
            "Jumlah Dark Chocolate (Rp 27.000): 2\n",
            "Jumlah Butterscoth Milk Crumble (Rp 25.000): 2\n",
            "Member? (1=Ya, 0=Tidak): 1\n",
            "Matcha Latte x3: Rp. 105,000\n",
            "Americano x1: Rp. 22,000\n",
            "Dark Chocolate x2: Rp. 54,000\n",
            "Butterscoth Milk Crumble x2: Rp. 50,000\n",
            "-----------------------------\n",
            "Subtotal        : Rp. 231,000\n",
            "Diskon          : Rp. 34,650\n",
            "Setelah Diskon  : Rp. 196,350\n",
            "PPN 11%         : Rp. 21,598\n",
            "Total Bayar     : Rp. 217,948\n"
          ]
        }
      ],
      "source": [
        "# Program Kasir Sederhana kedai kopi\n",
        "\n",
        "# Input Menu\n",
        "Matcha_Latte = int(input(\"Jumlah Matcha Latte (Rp 35.000): \"))\n",
        "Americano = int(input(\"Jumlah Americano (Rp 22.000): \"))\n",
        "Dark_Chocolate = int(input(\"Jumlah Dark Chocolate (Rp 27.000): \"))\n",
        "Butterscoth_Milk_Crumble = int(input(\"Jumlah Butterscoth Milk Crumble (Rp 25.000): \"))\n",
        "\n",
        "# Input status member\n",
        "member = int(input(\"Member? (1=Ya, 0=Tidak): \"))\n",
        "\n",
        "# Harga Menu\n",
        "harga_Matcha_Latte = 35000\n",
        "harga_Americano  = 22000\n",
        "harga_Dark_Chocolate = 27000\n",
        "harga_Butterscoth_Milk_Crumble = 25000\n",
        "\n",
        "# Hitung jumlah pembelian\n",
        "subtotal = (Matcha_Latte * harga_Matcha_Latte) + \\\n",
        "           (Americano * harga_Americano) + \\\n",
        "            (Dark_Chocolate * harga_Dark_Chocolate) + \\\n",
        "           (Butterscoth_Milk_Crumble * harga_Butterscoth_Milk_Crumble)\n",
        "\n",
        "# Syarat diskon\n",
        "syarat_diskon = (subtotal > 100000) * member\n",
        "# Jumlah diskon\n",
        "diskon = syarat_diskon * 0.15 * subtotal\n",
        "# Harga setelah diskon                # Total yang harus dibayar\n",
        "                                      total = setelah_diskon + ppn\n",
        "setelah_diskon = subtotal - diskon\n",
        "# Hitung PPN (11%)\n",
        "ppn = 0.11 * setelah_diskon\n",
        "print(f\"Matcha Latte x{Matcha_Latte}: Rp. {(Matcha_Latte * harga_Matcha_Latte):,.0f}\")\n",
        "print(f\"Americano x{Americano}: Rp. {(Americano* harga_Americano):,.0f}\")\n",
        "print(f\"Dark Chocolate x{Dark_Chocolate}: Rp. {(Dark_Chocolate * harga_Dark_Chocolate):,.0f}\")\n",
        "print(f\"Butterscoth Milk Crumble x{Butterscoth_Milk_Crumble}: Rp. {(Butterscoth_Milk_Crumble * harga_Butterscoth_Milk_Crumble):,.0f}\")\n",
        "print(\"-----------------------------\")\n",
        "print(f\"Subtotal        : Rp. {subtotal:,.0f}\")\n",
        "print(f\"Diskon          : Rp. {diskon:,.0f}\")\n",
        "print(f\"Setelah Diskon  : Rp. {setelah_diskon:,.0f}\")\n",
        "print(f\"PPN 11%         : Rp. {ppn:,.0f}\")\n",
        "print(f\"Total Bayar     : Rp. {total:,.0f}\")"
      ]
    }
  ]
}
