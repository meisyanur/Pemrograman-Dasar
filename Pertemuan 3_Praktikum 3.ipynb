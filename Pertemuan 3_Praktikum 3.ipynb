{
  "nbformat": 4,
  "nbformat_minor": 0,
  "metadata": {
    "colab": {
      "provenance": [],
      "authorship_tag": "ABX9TyNo8XfH/7Cisn9XE6Gwz2Ps",
      "include_colab_link": true
    },
    "kernelspec": {
      "name": "python3",
      "display_name": "Python 3"
    },
    "language_info": {
      "name": "python"
    }
  },
  "cells": [
    {
      "cell_type": "markdown",
      "metadata": {
        "id": "view-in-github",
        "colab_type": "text"
      },
      "source": [
        "<a href=\"https://colab.research.google.com/github/meisyanur/Pemrograman-Dasar/blob/main/Praktikum_3.ipynb\" target=\"_parent\"><img src=\"https://colab.research.google.com/assets/colab-badge.svg\" alt=\"Open In Colab\"/></a>"
      ]
    },
    {
      "cell_type": "code",
      "source": [
        "total = input(\"Berapa Porsi makan yang Anda beli? : \")\n",
        "Nama = input(\"siapa Nama Pelanggan? : \")"
      ],
      "metadata": {
        "colab": {
          "base_uri": "https://localhost:8080/"
        },
        "id": "cerDb3Szy9aB",
        "outputId": "34542783-5402-49ab-faab-e5a92aa272ef"
      },
      "execution_count": null,
      "outputs": [
        {
          "name": "stdout",
          "output_type": "stream",
          "text": [
            "Berapa Porsi makan yang Anda beli? : 2\n",
            "siapa Nama Pelanggan? : Meisya\n"
          ]
        }
      ]
    },
    {
      "cell_type": "code",
      "source": [
        "total = float (input(\"Berapa Porsi makan yang Anda beli? : \"))\n",
        "Nama = str (input(\"siapa Nama Pelanggan? : \"))"
      ],
      "metadata": {
        "colab": {
          "base_uri": "https://localhost:8080/"
        },
        "id": "8hsTZVvVq_Qf",
        "outputId": "9a4c74ff-4a3a-47ec-d370-ac4bc7b88238"
      },
      "execution_count": null,
      "outputs": [
        {
          "name": "stdout",
          "output_type": "stream",
          "text": [
            "Berapa Porsi makan yang Anda beli? : 2\n",
            "siapa Nama Pelanggan? : Meisya\n"
          ]
        }
      ]
    },
    {
      "cell_type": "code",
      "source": [
        "food = \"Dimsum\"\n",
        "print(\"Meisya sedang memesan\", food )"
      ],
      "metadata": {
        "colab": {
          "base_uri": "https://localhost:8080/"
        },
        "id": "bAqpaqLK4ikC",
        "outputId": "94b053f6-03e8-4868-a27a-a2472568bd3a"
      },
      "execution_count": null,
      "outputs": [
        {
          "output_type": "stream",
          "name": "stdout",
          "text": [
            "Meisya sedang memesan Dimsum\n"
          ]
        }
      ]
    },
    {
      "cell_type": "code",
      "source": [
        "food = \"Dimsum\"\n",
        "print(\"Meisya sedang memesan\", food )\n",
        "print(\"Meisya sedang memesan\"+ food )\n",
        "print(\"Meisya sedang memesan %s\" % (food ))\n"
      ],
      "metadata": {
        "colab": {
          "base_uri": "https://localhost:8080/"
        },
        "id": "_H5f7bqL6KjG",
        "outputId": "ac786914-7912-425e-c5a2-5d28b6b900ee"
      },
      "execution_count": null,
      "outputs": [
        {
          "output_type": "stream",
          "name": "stdout",
          "text": [
            "Meisya sedang memesan Dimsum\n",
            "Meisya sedang memesanDimsum\n",
            "Meisya sedang memesan Dimsum\n"
          ]
        }
      ]
    },
    {
      "cell_type": "code",
      "source": [
        "food = \"Dimsum\"\n",
        "jumlah_porsi = 2\n",
        "harga = 30.000\n",
        "\n",
        "#integer (%d)\n",
        "print(\"Jumlah porsi yang dipesan adalah %d porsi \" % (jumlah_porsi))\n",
        "#float (%f)\n",
        "print(f\"harga per porsi = Rp. {harga:.3f}\")\n",
        "#string (%s)\n",
        "print(\"meisya sering memesan  %s\" % food)\n",
        "#Hexadecimal (%x)\n",
        "print(\"jumlah pesanan (hexa) = %x\" % jumlah_porsi)\n",
        "#octal (%o)\n",
        "print(\"jumlah pesanan (octal) = %o\" % jumlah_porsi)\n",
        "\n"
      ],
      "metadata": {
        "id": "tLrPtHXkiZVU",
        "colab": {
          "base_uri": "https://localhost:8080/"
        },
        "outputId": "cf102455-52e4-44a4-ff3c-0e5b3f87384c"
      },
      "execution_count": null,
      "outputs": [
        {
          "output_type": "stream",
          "name": "stdout",
          "text": [
            "Jumlah porsi yang dipesan adalah 2 porsi \n",
            "harga per porsi = Rp. 30.000\n",
            "meisya sering memesan  Dimsum\n",
            "jumlah pesanan (hexa) = 2\n",
            "jumlah pesanan (octal) = 2\n"
          ]
        }
      ]
    },
    {
      "cell_type": "code",
      "source": [
        "#kalkulator sederhana\n",
        "a = 29\n",
        "b = 5\n",
        "print(\"Penjumlahan\", a + b)\n",
        "print(\"Pengurangan\", a - b)\n",
        "print(\"Perkalian\", a * b)\n",
        "print(\"Pembagian\", a / b)\n"
      ],
      "metadata": {
        "id": "wlufDpjSFxVb",
        "colab": {
          "base_uri": "https://localhost:8080/"
        },
        "outputId": "f948aacc-34c0-43eb-d8b1-1a32594cf5c5"
      },
      "execution_count": null,
      "outputs": [
        {
          "output_type": "stream",
          "name": "stdout",
          "text": [
            "Penjumlahan 34\n",
            "Pengurangan 24\n",
            "Perkalian 145\n",
            "Pembagian 5.8\n"
          ]
        }
      ]
    },
    {
      "cell_type": "code",
      "source": [
        "# mengecek bilangan\n",
        "bilangan = 8\n",
        "hasil = (bilangan > 0) and (bilangan % 2 == 0)\n",
        "print(\"Genap dan Positif?\", hasil)"
      ],
      "metadata": {
        "id": "zMqXHEyQGL3A",
        "colab": {
          "base_uri": "https://localhost:8080/"
        },
        "outputId": "dd4a6054-e534-4449-9da5-a10ecf14b80b"
      },
      "execution_count": null,
      "outputs": [
        {
          "output_type": "stream",
          "name": "stdout",
          "text": [
            "Genap dan Positif? True\n"
          ]
        }
      ]
    },
    {
      "cell_type": "code",
      "source": [
        "# kalkulator kasir\n",
        "harga_makan = float(input(\"Berapa harga mi tiaw per porsi? \"))\n",
        "jumlah_makan = int(input(\"Berapa porsi yang anda beli? \"))\n",
        "total_makan = harga_makan * jumlah_makan\n",
        "\n",
        "print(f\"Harga makan per porsi = {harga_makan}, totalnya adalah {total_makan}\")"
      ],
      "metadata": {
        "id": "m5ggflp_G2oM",
        "colab": {
          "base_uri": "https://localhost:8080/"
        },
        "outputId": "d8d282b9-329a-4e42-cdb8-613e14de6f13"
      },
      "execution_count": null,
      "outputs": [
        {
          "output_type": "stream",
          "name": "stdout",
          "text": [
            "Berapa harga mi tiaw per porsi? 15000\n",
            "Berapa porsi yang anda beli? 2\n",
            "Harga makan per porsi = 15000.0, totalnya adalah 30000.0\n"
          ]
        }
      ]
    },
    {
      "cell_type": "code",
      "source": [
        "#Ekspresi\n",
        "#konversi waktu\n",
        "total_detik = 358200\n",
        "jam = total_detik // 3600\n",
        "sisa_detik = total_detik % 3600\n",
        "menit = sisa_detik // 60\n",
        "detik = sisa_detik % 60\n",
        "print(f\"Hasil konversi:{jam} jam, {menit} menit, {detik} detik\")"
      ],
      "metadata": {
        "colab": {
          "base_uri": "https://localhost:8080/"
        },
        "id": "bm2NloUACIna",
        "outputId": "55afeeac-1203-466d-c481-a2f1c0df9cd1"
      },
      "execution_count": null,
      "outputs": [
        {
          "output_type": "stream",
          "name": "stdout",
          "text": [
            "Hasil konversi:99 jam, 30 menit, 0 detik\n"
          ]
        }
      ]
    },
    {
      "cell_type": "code",
      "source": [
        "#menghitung nilai akhir mahasiswa\n",
        "tugas = 80\n",
        "uts = 70\n",
        "uas = 90\n",
        "nilai_akhir = (0.3 * tugas) + (0.3 * uts) + (0.4 * uas)\n",
        "print(\"Nilai akhir =\", nilai_akhir)"
      ],
      "metadata": {
        "id": "7gM1J_bhIJLy",
        "colab": {
          "base_uri": "https://localhost:8080/"
        },
        "outputId": "58b53f50-1115-44e2-e30e-6d67df5ae16e"
      },
      "execution_count": null,
      "outputs": [
        {
          "output_type": "stream",
          "name": "stdout",
          "text": [
            "Nilai akhir = 81.0\n"
          ]
        }
      ]
    },
    {
      "cell_type": "code",
      "source": [
        "# Menghitung nilai akhir mahasiswa\n",
        "nilai_mahasiswa =  #isikan dengan nilai\n",
        "standar_kelulusan = #isikan nilai standard\n",
        "apakah_lulus = nilai_mahasiswa >= standar_kelulusan\n",
        "perlu_remedial = nilai_mahasiswa < standar_kelulusan\n",
        "print(f\"Nilai Mahasiswa: {nilai_mahasiswa}\")\n",
        "print(f\"Standar Kelulusan: {standar_kelulusan}\")\n",
        "print(f\"Apakah Lulus? {apakah_lulus}\")\n",
        "print(f\"perlu Remedial? {perlu_remedial}\")\n"
      ],
      "metadata": {
        "id": "7Bm1YmAJJVZQ"
      },
      "execution_count": null,
      "outputs": []
    },
    {
      "cell_type": "code",
      "source": [
        "#Ekspresi\n",
        "# Menghitung nilai akhir mahasiswa\n",
        "tugas = float(input(\"Masukkan nilai Tugas : \"))\n",
        "kuis = float(input(\"Masukkan nilai Kuis: \"))\n",
        "praktikum = float(input(\"Masukkan nilai Praktikum: \"))\n",
        "uts = float(input(\"Masukkan nilai UTS: \"))\n",
        "uas = float(input(\"Masukkan nilai UAS: \"))\n",
        "# Standar kelulusan\n",
        "standar_kelulusan = float(input(\"Masukkan standar kelulusan: \"))\n",
        "\n",
        "# Hitung nilai akhir\n",
        "nilai_mahasiswa = (0.2 * tugas) + (0.1 * kuis) + (0.1 * praktikum) + (0.2 * uts) + (0.3 * uas)\n",
        "print(\"Nilai Akhir: \", nilai_mahasiswa)\n",
        "\n",
        "# Keterangan kelulusan\n",
        "apakah_lulus = nilai_mahasiswa >= standar_kelulusan\n",
        "perlu_remedial = nilai_mahasiswa < standar_kelulusan\n",
        "print(f\"Nilai Akhir       : {nilai_mahasiswa}\")\n",
        "print(f\"Standar Kelulusan : {standar_kelulusan}\")\n",
        "print(f\"Status Kelulusan  : {apakah_lulus}\")\n",
        "print(f\"Remedial          : {perlu_remedial}\")"
      ],
      "metadata": {
        "id": "o48ovv2WI3jP",
        "colab": {
          "base_uri": "https://localhost:8080/"
        },
        "outputId": "643f1bc4-d5f6-49e0-8aad-b7c879e5ab41"
      },
      "execution_count": null,
      "outputs": [
        {
          "output_type": "stream",
          "name": "stdout",
          "text": [
            "Masukkan nilai Tugas : 90\n",
            "Masukkan nilai Kuis: 87\n",
            "Masukkan nilai Praktikum: 92\n",
            "Masukkan nilai UTS: 90\n",
            "Masukkan nilai UAS: 93\n",
            "Masukkan standar kelulusan: 78\n",
            "Nilai Akhir:  81.80000000000001\n",
            "Nilai Akhir       : 81.80000000000001\n",
            "Standar Kelulusan : 78.0\n",
            "Status Kelulusan  : True\n",
            "Remedial          : False\n"
          ]
        }
      ]
    },
    {
      "cell_type": "code",
      "source": [
        "#ekspresi\n",
        "\n",
        "belanja = float(input(\"Masukkan total belanja: \"))\n",
        "\n",
        "diskon_persen = 35 * (belanja > 1000000) + (5 * ((belanja > 200000) and (belanja <= 1000000)))\n",
        "\n",
        "diskon = (diskon_persen / 100) * belanja\n",
        "\n",
        "total_harga = belanja - diskon\n",
        "\n",
        "print(f\"Total belanja = {belanja}\")\n",
        "print(f\"Diskon = {diskon}\")\n",
        "print(f\"Potongan      : Rp. {diskon:,.0f}\")\n",
        "print(f\"Total harga setelah diskon = {total_harga}\")\n"
      ],
      "metadata": {
        "id": "W_AFe324jsXT",
        "colab": {
          "base_uri": "https://localhost:8080/"
        },
        "outputId": "b6e28431-67b7-48d9-90d6-3a265d7c83d9"
      },
      "execution_count": null,
      "outputs": [
        {
          "output_type": "stream",
          "name": "stdout",
          "text": [
            "Masukkan total belanja: 1500000\n",
            "Total belanja = 1500000.0\n",
            "Diskon = 525000.0\n",
            "Potongan      : Rp. 525,000\n",
            "Total harga setelah diskon = 975000.0\n"
          ]
        }
      ]
    }
  ]
}
