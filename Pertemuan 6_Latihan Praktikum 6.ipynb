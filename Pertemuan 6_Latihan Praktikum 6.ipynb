{
  "nbformat": 4,
  "nbformat_minor": 0,
  "metadata": {
    "colab": {
      "provenance": [],
      "authorship_tag": "ABX9TyOjvzHB98MlgqQ4qNRrS4wo",
      "include_colab_link": true
    },
    "kernelspec": {
      "name": "python3",
      "display_name": "Python 3"
    },
    "language_info": {
      "name": "python"
    }
  },
  "cells": [
    {
      "cell_type": "markdown",
      "metadata": {
        "id": "view-in-github",
        "colab_type": "text"
      },
      "source": [
        "<a href=\"https://colab.research.google.com/github/meisyanur/Pemrograman-Dasar/blob/main/Pertemuan%206-%20Latihan%20Praktikum%206.ipynb\" target=\"_parent\"><img src=\"https://colab.research.google.com/assets/colab-badge.svg\" alt=\"Open In Colab\"/></a>"
      ]
    },
    {
      "cell_type": "code",
      "execution_count": null,
      "metadata": {
        "colab": {
          "base_uri": "https://localhost:8080/"
        },
        "id": "qCmoa3GH-I-3",
        "outputId": "1e0fb48b-2ad8-43e7-d379-0b7826b8713e"
      },
      "outputs": [
        {
          "output_type": "stream",
          "name": "stdout",
          "text": [
            "Sistem siap. Selamat datang kembali di sesi praktikum.\n"
          ]
        }
      ],
      "source": [
        "# SOAL 1: Fungsi Inisialisasi Sederhana\n",
        "def sapa_praktikan():\n",
        "    \"\"\"Mencetak pesan sambutan dasar.\"\"\"\n",
        "    print(\"Sistem siap. Selamat datang kembali di sesi praktikum.\")\n",
        "\n",
        "# Pemanggilan:\n",
        "sapa_praktikan()"
      ]
    },
    {
      "cell_type": "code",
      "source": [
        "# SOAL 1: Fungsi Inisialisasi Sederhana #Buatlah fungsi untuk menampilkan Biodata() Lengkap anda.\n",
        "def Biodata():\n",
        "    \"\"\"Mencetak pesan sambutan dasar.\"\"\"\n",
        "    print(\"Nama                  : Meisya Nurhafiz B.T\")\n",
        "    print(\"NIM                   : 4232411006\")\n",
        "    print(\"Jurusan               : Teknik Elektro\")\n",
        "    print(\"Prodi                 : TEKNOLOGI REKAYASA PEMBANGKIT ENERGI\")\n",
        "    print(\"Semester              : 3\")\n",
        "    print(\"Mata Kuliah           : Pemrograman Dasar\")\n",
        "    print(\"Tempat, Tanggal Lahir : Batam, 29 Mei 2002\")\n",
        "    print(\"Alamat                : Sagulung Sumber Jadi Blok A7\")\n",
        "    print(\"Jenis Kelamin         : Perempuan\")\n",
        "    print(\"Umur                  : 23 tahun\")\n",
        "    print(\"Agama                 : Islam\")\n",
        "\n",
        "# Pemanggilan:\n",
        "Biodata()"
      ],
      "metadata": {
        "colab": {
          "base_uri": "https://localhost:8080/"
        },
        "id": "WKeNAb7rBsff",
        "outputId": "4b17362d-006b-4035-83ec-05f9d074900e"
      },
      "execution_count": 2,
      "outputs": [
        {
          "output_type": "stream",
          "name": "stdout",
          "text": [
            "Nama                  : Meisya Nurhafiz B.T\n",
            "NIM                   : 4232411006\n",
            "Jurusan               : Teknik Elektro\n",
            "Prodi                 : TEKNOLOGI REKAYASA PEMBANGKIT ENERGI\n",
            "Semester              : 3\n",
            "Mata Kuliah           : Pemrograman Dasar\n",
            "Tempat, Tanggal Lahir : Batam, 29 Mei 2002\n",
            "Alamat                : Sagulung Sumber Jadi Blok A7\n",
            "Jenis Kelamin         : Perempuan\n",
            "Umur                  : 23 tahun\n",
            "Agama                 : Islam\n"
          ]
        }
      ]
    },
    {
      "cell_type": "code",
      "source": [
        "# SOAL 2: Menghitung Volume Kubus\n",
        "def hitung_volume_kubus(sisi):\n",
        "    \"\"\"Menghitung volume kubus dari panjang sisinya.\"\"\"\n",
        "    return sisi ** 3\n",
        "\n",
        "# Pemanggilan:\n",
        "panjang_sisi = 5\n",
        "print(f\"Volume kubus dengan sisi {panjang_sisi} adalah: {hitung_volume_kubus(panjang_sisi)}\")"
      ],
      "metadata": {
        "colab": {
          "base_uri": "https://localhost:8080/"
        },
        "id": "IGohnbgHGeQZ",
        "outputId": "14891969-f0a2-492d-80d4-156c6f0f6ff3"
      },
      "execution_count": 3,
      "outputs": [
        {
          "output_type": "stream",
          "name": "stdout",
          "text": [
            "Volume kubus dengan sisi 5 adalah: 125\n"
          ]
        }
      ]
    },
    {
      "cell_type": "code",
      "source": [
        "# SOAL 2 : Ubah fungsi agar dapat menghitung volume balok dengan\n",
        "# menerima tiga parameter: panjang, lebar, dan tinggi.\n",
        "def hitung_volume_balok(panjang, lebar, tinggi):\n",
        "    \"\"\"Menghitung volume balok dari panjang, lebar, dan tinggi.\"\"\"\n",
        "    return panjang * lebar * tinggi\n",
        "\n",
        "# Pemanggilan:\n",
        "p = 8\n",
        "l = 5\n",
        "t = 6\n",
        "volume = hitung_volume_balok(p, l, t)\n",
        "\n",
        "print(f\"Volume balok dengan panjang {p}, lebar {l}, dan tinggi {t} adalah: {volume}\")"
      ],
      "metadata": {
        "colab": {
          "base_uri": "https://localhost:8080/"
        },
        "id": "B-9lHCwmG301",
        "outputId": "4379a62c-4e2f-43f9-debd-edc6c29b08d2"
      },
      "execution_count": 4,
      "outputs": [
        {
          "output_type": "stream",
          "name": "stdout",
          "text": [
            "Volume balok dengan panjang 8, lebar 5, dan tinggi 6 adalah: 240\n"
          ]
        }
      ]
    },
    {
      "cell_type": "code",
      "source": [
        "# SOAL 3: Menghitung Rata-rata dari List Nilai\n",
        "def hitung_rata_rata(data_nilai):\n",
        "    \"\"\"Menghitung rata-rata dari list angka menggunakan perulangan for.\"\"\"\n",
        "    total = 0\n",
        "\n",
        "    # Perulangan untuk menjumlahkan nilai\n",
        "    for nilai in data_nilai:\n",
        "        total += nilai\n",
        "\n",
        "    # Pembagian untuk rata-rata\n",
        "    if total > 0:\n",
        "        return total / len(data_nilai)\n",
        "    return 0\n",
        "\n",
        "# Pemanggilan:\n",
        "nilai_praktikan = [85, 78, 92, 65, 90]\n",
        "print(f\"Nilai rata-rata kelas adalah: {hitung_rata_rata(nilai_praktikan)}\")"
      ],
      "metadata": {
        "colab": {
          "base_uri": "https://localhost:8080/"
        },
        "id": "KATFqHhlIQGP",
        "outputId": "4468c875-2636-44a2-aba5-160e408acda8"
      },
      "execution_count": 5,
      "outputs": [
        {
          "output_type": "stream",
          "name": "stdout",
          "text": [
            "Nilai rata-rata kelas adalah: 82.0\n"
          ]
        }
      ]
    },
    {
      "cell_type": "code",
      "source": [
        "# SOAL 3 : Tambahkan pengecekan menggunakan percabangan if di dalam perulangan\n",
        "# for untuk mengabaikan atau memberikan penalti jika ada nilai di bawah 0 atau di atas 100.\n",
        "def hitung_rata_rata(data_nilai):\n",
        "    \"\"\"Menghitung rata-rata dari list angka, mengabaikan < 0 dan membatasi > 100.\"\"\"\n",
        "    total = 0\n",
        "    jumlah_data_valid = 0\n",
        "\n",
        "    for nilai in data_nilai:\n",
        "        if nilai < 0:\n",
        "            print(f\"Nilai ({nilai} X) Tidak boleh negatif.\")\n",
        "        elif nilai > 100:\n",
        "            print(f\"Nilai ({nilai} X) 100 Adalah batas maksimum.\")\n",
        "            nilai_diproses = 100\n",
        "        else:\n",
        "            nilai_diproses = nilai\n",
        "\n",
        "        total += nilai_diproses\n",
        "        jumlah_data_valid += 1\n",
        "\n",
        "    if jumlah_data_valid > 0:\n",
        "        return total / jumlah_data_valid\n",
        "    return 0\n",
        "\n",
        "# Pemanggilan:\n",
        "nilai_praktikan_baru = [58, -10, 92, 115, 90, 120, -7]\n",
        "print(f\"Data Nilai Awal: {nilai_praktikan_baru}\\n\")\n",
        "rata_rata = hitung_rata_rata(nilai_praktikan_baru)\n",
        "print(f\"\\nNilai rata-rata kelas adalah: {rata_rata}\")"
      ],
      "metadata": {
        "colab": {
          "base_uri": "https://localhost:8080/"
        },
        "id": "aT3icL9GItl5",
        "outputId": "b767e988-dd72-4616-9d6e-e04bc8f107a2"
      },
      "execution_count": 6,
      "outputs": [
        {
          "output_type": "stream",
          "name": "stdout",
          "text": [
            "Data Nilai Awal: [58, -10, 92, 115, 90, 120, -7]\n",
            "\n",
            "Nilai (-10 X) Tidak boleh negatif.\n",
            "Nilai (115 X) 100 Adalah batas maksimum.\n",
            "Nilai (120 X) 100 Adalah batas maksimum.\n",
            "Nilai (-7 X) Tidak boleh negatif.\n",
            "\n",
            "Nilai rata-rata kelas adalah: 85.42857142857143\n"
          ]
        }
      ]
    },
    {
      "cell_type": "code",
      "source": [
        "# SOAL 4: Sistem Penentuan Predikat Nilai\n",
        "def tentukan_predikat(skor):\n",
        "    \"\"\"Menentukan predikat (A, B, C, D, E) berdasarkan skor.\"\"\"\n",
        "    if skor >= 85:\n",
        "        return \"A\"\n",
        "    elif skor >= 70:\n",
        "        return \"B\"\n",
        "    elif skor >= 60:\n",
        "        return \"C\"\n",
        "    elif skor >= 50:\n",
        "        return \"D\"\n",
        "    else:\n",
        "        return \"E\"\n",
        "\n",
        "# Pemanggilan:\n",
        "print(f\"Skor 75 mendapat predikat: {tentukan_predikat(75)}\")\n",
        "print(f\"Skor 48 mendapat predikat: {tentukan_predikat(48)}\")"
      ],
      "metadata": {
        "colab": {
          "base_uri": "https://localhost:8080/"
        },
        "id": "GBpG6YfqJgSh",
        "outputId": "f588a22b-b4e0-44f5-da90-6c19c6d45866"
      },
      "execution_count": 7,
      "outputs": [
        {
          "output_type": "stream",
          "name": "stdout",
          "text": [
            "Skor 75 mendapat predikat: B\n",
            "Skor 48 mendapat predikat: E\n"
          ]
        }
      ]
    },
    {
      "cell_type": "code",
      "source": [
        "# SOAL 4 : Implementasikan pengecekan tipe data agar hanya menerima input numerik (int/float).\n",
        "def tentukan_predikat(skor):\n",
        "    \"\"\"Menentukan predikat (A, B, C, D, E) berdasarkan skor, dengan pengecekan tipe data.\"\"\"\n",
        "    if not isinstance(skor, (int, float)):\n",
        "        return \"ERROR: Input harus berupa angka (int atau float).\"\n",
        "    if skor >= 85:\n",
        "        return \"A\"\n",
        "    elif skor >= 70:\n",
        "        return \"B\"\n",
        "    elif skor >= 60:\n",
        "        return \"C\"\n",
        "    elif skor >= 50:\n",
        "        return \"D\"\n",
        "    else:\n",
        "        return \"E\"\n",
        "\n",
        "# Pemanggilan Uji Coba:\n",
        "print(f\"Skor 88 mendapat predikat: {tentukan_predikat(33)}\")\n",
        "print(f\"Skor 70 mendapat predikat: {tentukan_predikat(76)}\")\n",
        "print(f\"Skor 65 mendapat predikat: {tentukan_predikat(90)}\")\n",
        "print(f\"Skor 'Belum Nilai' mendapat predikat: {tentukan_predikat('Belum Nilai')}\")"
      ],
      "metadata": {
        "colab": {
          "base_uri": "https://localhost:8080/"
        },
        "id": "E6R2AygoKRtR",
        "outputId": "72491145-a36f-4383-fd75-5cafaaee15c9"
      },
      "execution_count": 8,
      "outputs": [
        {
          "output_type": "stream",
          "name": "stdout",
          "text": [
            "Skor 88 mendapat predikat: E\n",
            "Skor 70 mendapat predikat: B\n",
            "Skor 65 mendapat predikat: A\n",
            "Skor 'Belum Nilai' mendapat predikat: ERROR: Input harus berupa angka (int atau float).\n"
          ]
        }
      ]
    },
    {
      "cell_type": "code",
      "source": [
        "# SOAL 5: Menghitung Faktorial dengan Loop While\n",
        "def hitung_faktorial(n):\n",
        "    \"\"\"Menghitung faktorial dari bilangan positif n.\"\"\"\n",
        "    hasil = 1\n",
        "\n",
        "    # Perulangan berjalan selama n lebih besar dari 1\n",
        "    while n > 1:\n",
        "        hasil *= n\n",
        "        n -= 1   # Kurangi n\n",
        "    return hasil\n",
        "\n",
        "# Pemanggilan:\n",
        "bilangan_n = 4\n",
        "print(f\"Faktorial dari {bilangan_n} adalah: {hitung_faktorial(bilangan_n)}\")  # Output: 24"
      ],
      "metadata": {
        "colab": {
          "base_uri": "https://localhost:8080/"
        },
        "id": "P0bYhnspKmRX",
        "outputId": "22c1bc7c-d5bf-4773-b92e-f06ab27a6206"
      },
      "execution_count": 9,
      "outputs": [
        {
          "output_type": "stream",
          "name": "stdout",
          "text": [
            "Faktorial dari 4 adalah: 24\n"
          ]
        }
      ]
    },
    {
      "cell_type": "code",
      "source": [
        "# SOAL 5: Tambahkan percabangan if untuk menangani kasus khusus seperti n = 0 atau n < 0.\n",
        "def hitung_faktorial(n):\n",
        "    \"\"\"Menghitung faktorial dari bilangan positif n, menangani 0 dan negatif.\"\"\"\n",
        "\n",
        "    # Pengecekan Kasus Khusus (Modifikasi)\n",
        "    if n < 0:\n",
        "        return \"ERROR: Faktorial tidak terdefinisi untuk bilangan negatif.\"\n",
        "    elif n == 0:\n",
        "        return 1\n",
        "    hasil = 1\n",
        "\n",
        "    while n > 1:\n",
        "        hasil *= n\n",
        "        n -= 1\n",
        "    return hasil\n",
        "\n",
        "# Pemanggilan Uji Coba:\n",
        "bilangan_n = 4\n",
        "bilangan_t = 0\n",
        "bilangan_m = -4\n",
        "print(f\"Faktorial dari {bilangan_n} adalah: {hitung_faktorial(bilangan_n)}\")\n",
        "print(f\"Faktorial dari {bilangan_t} adalah: {hitung_faktorial(bilangan_t)}\")\n",
        "print(f\"Faktorial dari {bilangan_m} adalah: {hitung_faktorial(bilangan_m)}\")"
      ],
      "metadata": {
        "colab": {
          "base_uri": "https://localhost:8080/"
        },
        "id": "xqnhaymVKu5G",
        "outputId": "69b12d5c-3de8-4d68-da14-30134f7f8ee7"
      },
      "execution_count": 10,
      "outputs": [
        {
          "output_type": "stream",
          "name": "stdout",
          "text": [
            "Faktorial dari 4 adalah: 24\n",
            "Faktorial dari 0 adalah: 1\n",
            "Faktorial dari -4 adalah: ERROR: Faktorial tidak terdefinisi untuk bilangan negatif.\n"
          ]
        }
      ]
    },
    {
      "cell_type": "code",
      "source": [
        "# SOAL 6: Analisis Data Suhu Ekstrem (for dan if/elif)\n",
        "def analisis_suhu(data_suhu):\n",
        "    \"\"\"Menghitung jumlah hari Panas dan Dingin dari data_suhu.\"\"\"\n",
        "    panas_count = 0\n",
        "    dingin_count = 0\n",
        "\n",
        "    for suhu in data_suhu:\n",
        "        if suhu >= 35:\n",
        "            panas_count += 1\n",
        "        elif suhu <= 15:\n",
        "            dingin_count += 1\n",
        "\n",
        "    return panas_count, dingin_count\n",
        "\n",
        "# Pemanggilan:\n",
        "suhu_mingguan = [36, 30, 14, 25, 38, 16, 28]\n",
        "jumlah_panas, jumlah_dingin = analisis_suhu(suhu_mingguan)\n",
        "print(f\"Jumlah hari Panas (>=35°C): {jumlah_panas}\")\n",
        "print(f\"Jumlah hari Dingin (<=15°C): {jumlah_dingin}\")"
      ],
      "metadata": {
        "colab": {
          "base_uri": "https://localhost:8080/"
        },
        "id": "BAVv9n9eK0_o",
        "outputId": "347cd79f-fdc6-4aa4-88b5-c021b56617ec"
      },
      "execution_count": 11,
      "outputs": [
        {
          "output_type": "stream",
          "name": "stdout",
          "text": [
            "Jumlah hari Panas (>=35°C): 2\n",
            "Jumlah hari Dingin (<=15°C): 1\n"
          ]
        }
      ]
    },
    {
      "cell_type": "code",
      "source": [
        "# SOAL 6 :\n",
        "# Tambahkan parameter opsional pada fungsi seperti batas_panas dan batas_dingin dengan nilai default 35 dan 15.\n",
        "def analisis_suhu(data_suhu, batas_panas=35, batas_dingin=15):\n",
        "    \"\"\"Menghitung jumlah hari Panas dan Dingin dari data_suhu berdasarkan batas yang ditentukan.\"\"\"\n",
        "    panas_count = 0\n",
        "    dingin_count = 0\n",
        "\n",
        "    for suhu in data_suhu:\n",
        "        if suhu >= batas_panas:\n",
        "            panas_count += 1\n",
        "        elif suhu <= batas_dingin:\n",
        "            dingin_count += 1\n",
        "\n",
        "    return panas_count, dingin_count\n",
        "\n",
        "suhu_mingguan = [36, 30, 14, 25, 38, 16, 28, 37, 23, 12]\n",
        "\n",
        "jumlah_panas_def, jumlah_dingin_def = analisis_suhu(suhu_mingguan)\n",
        "print(f\"Hasil (Batas 35°C & 15°C): Panas={jumlah_panas_def}, Dingin={jumlah_dingin_def}\")"
      ],
      "metadata": {
        "colab": {
          "base_uri": "https://localhost:8080/"
        },
        "id": "5suqEaUSK7zD",
        "outputId": "87202928-6383-447a-801c-2d6c062e4596"
      },
      "execution_count": 12,
      "outputs": [
        {
          "output_type": "stream",
          "name": "stdout",
          "text": [
            "Hasil (Batas 35°C & 15°C): Panas=3, Dingin=2\n"
          ]
        }
      ]
    }
  ]
}
